{
 "cells": [
  {
   "cell_type": "code",
   "execution_count": 16,
   "metadata": {},
   "outputs": [],
   "source": [
    "import json\n",
    "from datetime import datetime\n",
    "\n",
    "def state_handler(machine, state, request_data, context, prev_state_response, current_state_response):\n",
    "    \n",
    "    current_date = datetime.now().strftime('%Y%m%d') + '000000'\n",
    "    \n",
    "    \n",
    "    data = {\n",
    "        \"id\": context[\"id\"],\n",
    "        \"attributes\": [\n",
    "            {\n",
    "                \"attribute\": {\n",
    "                    \"attributeCode\": \"ContractCancellationDate\"\n",
    "                },\n",
    "                \"value\":current_date\n",
    "            },\n",
    "            {\n",
    "                \"attribute\": {\n",
    "                    \"attributeCode\": \"ContractCancellationRequestDate\"\n",
    "                },\n",
    "                \"value\": current_date\n",
    "            },\n",
    "            {\n",
    "                \"attribute\": {\n",
    "                    \"attributeCode\": \"ContractCancellationReason\"\n",
    "                },\n",
    "                \"value\": request_data['ContractCancellationReason'] \n",
    "            },\n",
    "            {\n",
    "                \"attribute\": {\n",
    "                    \"attributeCode\": \"ContractNumber\"\n",
    "                },\n",
    "                \"value\": next((attr['value'] for attr in context['attributes'] \n",
    "                               if attr['attribute']['attributeCode'] == \"ContractNumber\"), None)\n",
    "            }\n",
    "        ],\n",
    "        \"authorityGroup\": context[\"authorityGroup\"],\n",
    "        \"contractLockID\": \"string\"  \n",
    "    }\n",
    "    \n",
    "    return json.dumps(data, indent=4)"
   ]
  },
  {
   "cell_type": "code",
   "execution_count": 17,
   "metadata": {},
   "outputs": [],
   "source": [
    "with open (r'C:\\Users\\KaanGermiyan\\StateMachine-2\\Double_Term_Single_Term\\inputs\\state7_input.json') as f:\n",
    "    context = json.load(f)"
   ]
  },
  {
   "cell_type": "code",
   "execution_count": 18,
   "metadata": {},
   "outputs": [],
   "source": [
    "new = state_handler('machine', 'state', 'request_data', context, 'prev_state_response', 'current_state_response')"
   ]
  },
  {
   "cell_type": "code",
   "execution_count": 19,
   "metadata": {},
   "outputs": [
    {
     "data": {
      "text/plain": [
       "'{\\n    \"id\": 21408,\\n    \"attributes\": [\\n        {\\n            \"attribute\": {\\n                \"attributeCode\": \"ContractCancellationDate\"\\n            },\\n            \"value\": \"20241101000000\"\\n        },\\n        {\\n            \"attribute\": {\\n                \"attributeCode\": \"ContractCancellationRequestDate\"\\n            },\\n            \"value\": \"20241101000000\"\\n        },\\n        {\\n            \"attribute\": {\\n                \"attributeCode\": \"ContractCancellationReason\"\\n            },\\n            \"value\": \"SubscriberRequest\"\\n        },\\n        {\\n            \"attribute\": {\\n                \"attributeCode\": \"ContractNumber\"\\n            },\\n            \"value\": 10000446\\n        }\\n    ],\\n    \"authorityGroup\": \"string\",\\n    \"contractLockID\": \"string\"\\n}'"
      ]
     },
     "execution_count": 19,
     "metadata": {},
     "output_type": "execute_result"
    }
   ],
   "source": [
    "new"
   ]
  },
  {
   "cell_type": "code",
   "execution_count": 20,
   "metadata": {},
   "outputs": [
    {
     "data": {
      "text/plain": [
       "'{\\n    \"id\": 21408,\\n    \"attributes\": [\\n        {\\n            \"attribute\": {\\n                \"attributeCode\": \"ContractCancellationDate\"\\n            },\\n            \"value\": 99991231000000\\n        },\\n        {\\n            \"attribute\": {\\n                \"attributeCode\": \"ContractCancellationRequestDate\"\\n            },\\n            \"value\": 99991231235959\\n        },\\n        {\\n            \"attribute\": {\\n                \"attributeCode\": \"ContractCancellationReason\"\\n            },\\n            \"value\": \"SubscriberRequest\"\\n        },\\n        {\\n            \"attribute\": {\\n                \"attributeCode\": \"ContractNumber\"\\n            },\\n            \"value\": 10000446\\n        }\\n    ],\\n    \"authorityGroup\": \"string\",\\n    \"contractLockID\": \"string\"\\n}'"
      ]
     },
     "execution_count": 20,
     "metadata": {},
     "output_type": "execute_result"
    }
   ],
   "source": [
    "'{\\n    \"id\": 21408,\\n    \"attributes\": [\\n        {\\n            \"attribute\": {\\n                \"attributeCode\": \"ContractCancellationDate\"\\n            },\\n            \"value\": 99991231000000\\n        },\\n        {\\n            \"attribute\": {\\n                \"attributeCode\": \"ContractCancellationRequestDate\"\\n            },\\n            \"value\": 99991231235959\\n        },\\n        {\\n            \"attribute\": {\\n                \"attributeCode\": \"ContractCancellationReason\"\\n            },\\n            \"value\": \"SubscriberRequest\"\\n        },\\n        {\\n            \"attribute\": {\\n                \"attributeCode\": \"ContractNumber\"\\n            },\\n            \"value\": 10000446\\n        }\\n    ],\\n    \"authorityGroup\": \"string\",\\n    \"contractLockID\": \"string\"\\n}'"
   ]
  },
  {
   "cell_type": "code",
   "execution_count": 21,
   "metadata": {},
   "outputs": [],
   "source": [
    "with open('output.json', 'w') as f:\n",
    "    f.write(new)"
   ]
  },
  {
   "cell_type": "code",
   "execution_count": null,
   "metadata": {},
   "outputs": [],
   "source": []
  }
 ],
 "metadata": {
  "kernelspec": {
   "display_name": "Python 3",
   "language": "python",
   "name": "python3"
  },
  "language_info": {
   "codemirror_mode": {
    "name": "ipython",
    "version": 3
   },
   "file_extension": ".py",
   "mimetype": "text/x-python",
   "name": "python",
   "nbconvert_exporter": "python",
   "pygments_lexer": "ipython3",
   "version": "3.12.3"
  }
 },
 "nbformat": 4,
 "nbformat_minor": 2
}
