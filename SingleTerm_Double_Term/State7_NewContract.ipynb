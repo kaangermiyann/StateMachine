{
 "cells": [
  {
   "cell_type": "markdown",
   "metadata": {},
   "source": [
    "# State-Machine States"
   ]
  },
  {
   "cell_type": "markdown",
   "metadata": {},
   "source": [
    "### State Name : New Contract Creation (Yeni Sözleşme Oluşturma)"
   ]
  },
  {
   "cell_type": "markdown",
   "metadata": {},
   "source": [
    "1. All of json copied without id's for process\n",
    "2. Startdate is changed to currentdate\n",
    "\n",
    "3. Changed startDate's endDates is also changed with active ones "
   ]
  },
  {
   "cell_type": "markdown",
   "metadata": {},
   "source": [
    "##### Pre-Execute Script"
   ]
  },
  {
   "cell_type": "code",
   "execution_count": null,
   "metadata": {},
   "outputs": [],
   "source": [
    "# machine              : Currently executing machine instance\n",
    "# state                : Currently executing state instance\n",
    "# request_data         : Original trigger data\n",
    "# context              : Machine stored context\n",
    "# prev_state_response  : Previous executed state business logic response\n",
    "# return\n",
    "#     {\"success\": True, \"goto\": \"STATE_CODE\"}\n",
    "#     {\"success\": False, \"error\": {\"code\": \"...\", \"detail\": \"...\"}}\n",
    "def state_handler(machine, state, request_data, context, prev_state_response):\n",
    "    # do workflow here\n",
    "    return {\"success\": True, \"goto\": \"END\"}"
   ]
  },
  {
   "cell_type": "markdown",
   "metadata": {},
   "source": [
    "##### Business Mapping"
   ]
  },
  {
   "cell_type": "code",
   "execution_count": 18,
   "metadata": {},
   "outputs": [],
   "source": [
    "from datetime import datetime\n",
    "import json\n",
    "import numpy as np\n",
    "def state_handler(machine, state, request_data, context, prev_state_response, current_state_response):\n",
    "    # Not recursive \n",
    "    current_date = datetime.now().strftime('%Y%m%d') + '000000'\n",
    "    newContractPower = next((attr for attr in context['attributes'] if attr['attribute']['attributeCode']=='NewContractPower'),None)\n",
    "    \n",
    "    changes_dict = {'ContractPower':newContractPower }\n",
    "    \n",
    "    copied_json = {}\n",
    "    stack = [(copied_json, context)]\n",
    "\n",
    "    # Copy context to copied_json without id\n",
    "    while stack:\n",
    "        current_copied, current_original = stack.pop()\n",
    "\n",
    "        for key, value in current_original.items():\n",
    "            if key != 'id':\n",
    "                if isinstance(value, list):\n",
    "                    new_list = []\n",
    "                    for item in value:\n",
    "                        if isinstance(item, dict):\n",
    "                            new_item = {}\n",
    "                            new_list.append(new_item)\n",
    "                            stack.append((new_item, item))\n",
    "                        else:\n",
    "                            new_list.append(item)\n",
    "                    current_copied[key] = new_list\n",
    "                elif isinstance(value, dict):\n",
    "                    new_dict = {}\n",
    "                    current_copied[key] = new_dict\n",
    "                    stack.append((new_dict, value))\n",
    "                else:\n",
    "                    current_copied[key] = value\n",
    "\n",
    "    # Set dates for all values in copied_json\n",
    "    for key, value in copied_json.items():\n",
    "        if isinstance(value, list):\n",
    "            for item in value:\n",
    "                if isinstance(item, dict):\n",
    "                    if item.get('value') is None and 'values' in item and item['values']:\n",
    "                        item['values'][0]['startDate'] = current_date\n",
    "                        item['values'][0]['endDate'] = 99991231235959\n",
    "                    elif item.get('value') is not None:\n",
    "                        item['startDate'] = current_date\n",
    "                        item['endDate'] = 99991231235959\n",
    "        elif isinstance(value, dict):\n",
    "            if value.get('value') is None and 'values' in value and value['values']:\n",
    "                value['values'][0]['startDate'] = current_date\n",
    "                value['values'][0]['endDate'] = 99991231235959\n",
    "            elif value.get('value') is not None:\n",
    "                value['startDate'] = current_date\n",
    "                value['endDate'] = 99991231235959\n",
    "\n",
    "    # Update attribute values in context according to the dict above\n",
    "    for code, new_value in changes_dict.items():\n",
    "        for attr in copied_json.get('attributes', []):\n",
    "            if attr['attribute']['attributeCode'] == code:\n",
    "                if attr['value'] is None:\n",
    "                    attr['values'][0]['value'] = new_value\n",
    "                    attr['values'][0]['valueDesc'] = None\n",
    "                else:\n",
    "                    attr['values'][0]['valueDesc'] = None\n",
    "                    attr['value'] = new_value\n",
    "\n",
    "\n",
    "    return copied_json  "
   ]
  },
  {
   "cell_type": "code",
   "execution_count": 17,
   "metadata": {},
   "outputs": [],
   "source": [
    "from datetime import datetime\n",
    "\n",
    "def copy_json_without_ids(original_json):\n",
    "    #recursive one\n",
    "    current_date = datetime.now().strftime('%Y%m%d%H%M%S')\n",
    "    \n",
    "    copied_json = {}\n",
    "\n",
    "    for key, value in original_json.items():\n",
    "        if key != 'id':\n",
    "            if isinstance(value, list):\n",
    "                copied_json[key] = []\n",
    "                for item in value:\n",
    "                    if isinstance(item, dict):\n",
    "                        copied_item = copy_json_without_ids(item)                    \n",
    "                        if copied_item.get('value') is None and 'values' in copied_item and copied_item['values']:\n",
    "                            copied_item['values'][0]['startDate'] = current_date\n",
    "                            copied_item['values'][0]['endDate'] = 99991231235959  \n",
    "                        elif copied_item.get('value') is not None:\n",
    "                            copied_item['startDate'] = current_date\n",
    "                            copied_item['endDate'] = 99991231235959  \n",
    "                        copied_json[key].append(copied_item)\n",
    "                    else:\n",
    "                        copied_json[key].append(item)\n",
    "            elif isinstance(value, dict):\n",
    "                copied_json[key] = copy_json_without_ids(value)\n",
    "            else:\n",
    "                copied_json[key] = value\n",
    "\n",
    "    return copied_json"
   ]
  },
  {
   "cell_type": "code",
   "execution_count": null,
   "metadata": {},
   "outputs": [],
   "source": []
  }
 ],
 "metadata": {
  "kernelspec": {
   "display_name": "Python 3",
   "language": "python",
   "name": "python3"
  },
  "language_info": {
   "codemirror_mode": {
    "name": "ipython",
    "version": 3
   },
   "file_extension": ".py",
   "mimetype": "text/x-python",
   "name": "python",
   "nbconvert_exporter": "python",
   "pygments_lexer": "ipython3",
   "version": "3.12.3"
  }
 },
 "nbformat": 4,
 "nbformat_minor": 2
}
