{
 "cells": [
  {
   "cell_type": "code",
   "execution_count": 1,
   "metadata": {},
   "outputs": [],
   "source": [
    "# machine                 : Currently executing machine instance\n",
    "# state                   : Currently executing state instance\n",
    "# request_data            : Original trigger data\n",
    "# context                 : Machine stored context\n",
    "# prev_state_response     : Previous executed state business logic response\n",
    "# current_state_response  : Currently executed state business logic response\n",
    "# return\n",
    "#     {\"success\": True, \"goto\": \"STATE_CODE\"}\n",
    "#     {\"success\": False, \"error\": {\"code\": \"...\", \"detail\": \"...\"}}\n",
    "\n",
    "from datetime import datetime\n",
    "import json \n",
    "def state_handler(machine, state, request_data, context, prev_state_response, current_state_response):\n",
    "    #Not recursive \n",
    "    current_date = datetime.now().strftime('%Y%m%d') + '000000'\n",
    "    \n",
    "    changes_dict = {'TermType':'CT'}\n",
    "    \n",
    "    copied_json = {}\n",
    "    stack = [(copied_json, context)]\n",
    "\n",
    "    while stack:\n",
    "        current_copied, current_original = stack.pop()\n",
    "\n",
    "        for key, value in current_original.items():\n",
    "            if key != 'id':\n",
    "                if isinstance(value, list):\n",
    "                    new_list = []\n",
    "                    for item in value:\n",
    "                        if isinstance(item, dict):\n",
    "                            new_item = {}\n",
    "                            new_list.append(new_item)\n",
    "                            stack.append((new_item, item))\n",
    "                        else:\n",
    "                            new_list.append(item)\n",
    "                    current_copied[key] = new_list\n",
    "                elif isinstance(value, dict):\n",
    "                    new_dict = {}\n",
    "                    current_copied[key] = new_dict\n",
    "                    stack.append((new_dict, value))\n",
    "                else:\n",
    "                    current_copied[key] = value\n",
    "\n",
    "    # Tüm değerlerin tarihlerini ayarla\n",
    "    def set_dates(data_dict):\n",
    "        if isinstance(data_dict,dict):\n",
    "            if data_dict.get('value') is None and 'values' in data_dict and data_dict['values']:\n",
    "                data_dict['values'][0]['startDate'] = current_date\n",
    "                data_dict['values'][0]['endDate'] = 99991231235959\n",
    "            elif data_dict.get('value') is not None:\n",
    "                data_dict['startDate'] = current_date\n",
    "                data_dict['endDate'] = 99991231235959\n",
    "    \n",
    "    def update_attribute_value(context, update_dict):\n",
    "\n",
    "        for code, new_value in update_dict.items():\n",
    "            \n",
    "            for attr in context['attributes']:\n",
    "                if attr['attribute']['attributeCode'] == code:\n",
    "                    if attr['value'] is None:\n",
    "                        attr['values'][0]['value'] = new_value\n",
    "                        attr['values'][0]['valueDesc'] = None\n",
    "                    # Yeni değeri güncelle\n",
    "                    else:\n",
    "                        attr['values'][0]['valueDesc'] = None\n",
    "                        attr['value'] = new_value\n",
    "                    break\n",
    "        return context\n",
    "    \n",
    "    update_attribute_value(copied_json,changes_dict)\n",
    "            \n",
    "    for key, value in copied_json.items():\n",
    "        if isinstance(value, list):\n",
    "            for item in value:\n",
    "                if isinstance(item, dict):\n",
    "                    set_dates(item)\n",
    "        elif isinstance(value, dict):\n",
    "            set_dates(value)\n",
    "\n",
    "    return copied_json   "
   ]
  },
  {
   "cell_type": "code",
   "execution_count": 8,
   "metadata": {},
   "outputs": [
    {
     "data": {
      "text/plain": [
       "{'id': None,\n",
       " 'attribute': {'alias': None, 'attributeCode': 'TermType'},\n",
       " 'value': None,\n",
       " 'startDate': None,\n",
       " 'endDate': None,\n",
       " 'valueDesc': None,\n",
       " 'values': [{'id': 13622,\n",
       "   'attribute': None,\n",
       "   'value': 'TT',\n",
       "   'startDate': 20241001000000,\n",
       "   'endDate': 99991231235959,\n",
       "   'valueDesc': 'Tek Terim',\n",
       "   'values': None}]}"
      ]
     },
     "execution_count": 8,
     "metadata": {},
     "output_type": "execute_result"
    }
   ],
   "source": [
    "with open(r'C:\\Users\\KaanGermiyan\\StateMachine-2\\Double_Term_Single_Term\\inputs\\state1_input.json') as f:\n",
    "    context = json.load(f)\n"
   ]
  },
  {
   "cell_type": "code",
   "execution_count": 9,
   "metadata": {},
   "outputs": [],
   "source": [
    "update_dict = {'TermType':'CT'}"
   ]
  },
  {
   "cell_type": "code",
   "execution_count": 13,
   "metadata": {},
   "outputs": [],
   "source": [
    "def update_attribute_value(context, update_dict):\n",
    "\n",
    "    for code, new_value in update_dict.items():\n",
    "        \n",
    "        for attr in context['attributes']:\n",
    "            if attr['attribute']['attributeCode'] == code:\n",
    "                if attr['value'] is None:\n",
    "                    attr['values'][0]['endDate'] = current_date\n",
    "                    attr['values'][0]['value'] = new_value\n",
    "                # Yeni değeri güncelle\n",
    "                else:\n",
    "                    attr['endDate'] = current_date\n",
    "                    attr['value'] = new_value\n",
    "                break\n",
    "    return context\n"
   ]
  },
  {
   "cell_type": "code",
   "execution_count": 11,
   "metadata": {},
   "outputs": [
    {
     "name": "stdout",
     "output_type": "stream",
     "text": [
      "CT\n"
     ]
    }
   ],
   "source": [
    "context = update_attribute_value(context,update_dict)"
   ]
  },
  {
   "cell_type": "code",
   "execution_count": 12,
   "metadata": {},
   "outputs": [],
   "source": [
    "response =  next((attr for attr in context['attributes'] if attr['attribute']['attributeCode']=='TermType'),None)"
   ]
  },
  {
   "cell_type": "code",
   "execution_count": 39,
   "metadata": {},
   "outputs": [
    {
     "data": {
      "text/plain": [
       "{'id': None,\n",
       " 'attribute': {'alias': None, 'attributeCode': 'TermType'},\n",
       " 'value': None,\n",
       " 'startDate': None,\n",
       " 'endDate': None,\n",
       " 'valueDesc': None,\n",
       " 'values': [{'id': 13622,\n",
       "   'attribute': None,\n",
       "   'value': 'CT',\n",
       "   'startDate': 20241001000000,\n",
       "   'endDate': 99991231235959,\n",
       "   'valueDesc': 'Tek Terim',\n",
       "   'values': None}]}"
      ]
     },
     "execution_count": 39,
     "metadata": {},
     "output_type": "execute_result"
    }
   ],
   "source": [
    "response"
   ]
  },
  {
   "cell_type": "code",
   "execution_count": 14,
   "metadata": {},
   "outputs": [],
   "source": [
    "update_dict = {'TermType':'CT',\n",
    "               'valueDesc' : 'Çift Terim'}"
   ]
  },
  {
   "cell_type": "code",
   "execution_count": 20,
   "metadata": {},
   "outputs": [
    {
     "data": {
      "text/plain": [
       "'CT'"
      ]
     },
     "execution_count": 20,
     "metadata": {},
     "output_type": "execute_result"
    }
   ],
   "source": [
    "update_dict['TermType']"
   ]
  },
  {
   "cell_type": "code",
   "execution_count": null,
   "metadata": {},
   "outputs": [],
   "source": []
  }
 ],
 "metadata": {
  "kernelspec": {
   "display_name": "Python 3",
   "language": "python",
   "name": "python3"
  },
  "language_info": {
   "codemirror_mode": {
    "name": "ipython",
    "version": 3
   },
   "file_extension": ".py",
   "mimetype": "text/x-python",
   "name": "python",
   "nbconvert_exporter": "python",
   "pygments_lexer": "ipython3",
   "version": "3.12.3"
  }
 },
 "nbformat": 4,
 "nbformat_minor": 2
}
