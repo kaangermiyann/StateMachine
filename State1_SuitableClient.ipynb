{
 "cells": [
  {
   "cell_type": "markdown",
   "metadata": {},
   "source": [
    "# State-Machine States"
   ]
  },
  {
   "cell_type": "markdown",
   "metadata": {},
   "source": [
    "### State Name : Check for Transfomation Process (Geçiş Süreci Kontrolü)"
   ]
  },
  {
   "cell_type": "markdown",
   "metadata": {},
   "source": [
    "\n",
    "Steps for Processing ContractID:\n",
    "\n",
    "1. Initialize the ContractID. As the first step in the Business Mapping process, \n",
    "   invoke the `md/search` service to retrieve all relevant information. \n",
    "   Store the necessary data in a variable named `CONTEXT`.\n",
    "\n",
    "2. Execute the post-execution script to perform all required controls. \n",
    "   If any errors are encountered during this process, return the relevant error message.\n",
    "\n",
    "3. Update the `CONTEXT` variable according to the requirements of the subsequent steps.\n",
    "\n"
   ]
  },
  {
   "cell_type": "markdown",
   "metadata": {},
   "source": [
    "##### Business Mapping"
   ]
  },
  {
   "cell_type": "code",
   "execution_count": 121,
   "metadata": {},
   "outputs": [],
   "source": [
    "# machine                 : Currently executing machine instance\n",
    "# state                   : Currently executing state instance\n",
    "# request_data            : Original trigger data\n",
    "# context                 : Machine stored context\n",
    "# prev_state_response     : Previous executed state business logic response\n",
    "# current_state_response  : Currently executed state business logic response\n",
    "# return\n",
    "#     {\"success\": True, \"goto\": \"STATE_CODE\"}\n",
    "#     {\"success\": False, \"error\": {\"code\": \"...\", \"detail\": \"...\"}}\n",
    "\n",
    "def business_mapping(machine, state, request_data, context, prev_state_response, current_state_response):\n",
    "    # do workflow here\n",
    "    return {\"success\": True, \"goto\": \"END\"}"
   ]
  },
  {
   "cell_type": "markdown",
   "metadata": {},
   "source": [
    "##### Post-Execution"
   ]
  },
  {
   "cell_type": "code",
   "execution_count": 123,
   "metadata": {},
   "outputs": [],
   "source": [
    "def post_execution(machine, state, request_data, context, prev_state_response, current_state_response):\n",
    "    \n",
    "    condition = {\n",
    "        'TermType': 'CT',\n",
    "        'ContractCancellationDate': 99991231235959\n",
    "    }\n",
    "    \n",
    "    if context['assetDefinitionCode'] not in ['ConsumerContract', 'LicensedProducerContract', 'UnlicensedProducerContract']:\n",
    "        return {\"success\": False, \"ErrorCode\": \"Üretici ya da tüketici değilseniz Terim değişikliği yapılamaz\", \"goto\": \"END\"}\n",
    "    \n",
    "    # ConsumerContract için TariffCode kontrolü\n",
    "    if context['assetDefinitionCode'] == 'ConsumerContract':\n",
    "        tariff_code = next((attr['value'] for attr in context['attributes'] \n",
    "                            if attr['attribute']['attributeCode'] == 'TariffCode'), None)\n",
    "\n",
    "        # Eğer tariff_code None ise, values'dan al\n",
    "        if tariff_code is None:\n",
    "            tariff_code = next((attr['values'][0]['value'] for attr in context['attributes'] \n",
    "                                if attr['attribute']['attributeCode'] == 'TariffCode' and attr['values']), None)\n",
    "            if any('AG' in code for code in tariff_code):\n",
    "                return {\"success\": False, \"ErrorCode\": \"AG iseniz terim değişikliği yapılamaz\", \"goto\": \"END\"}\n",
    "    #Şimdi kalan kontrollerde sıra\n",
    "    if all(next((attr['value'] if attr['value'] is not None else (attr['values'][0]['value'] if attr['values'] else None) \n",
    "                    for attr in context['attributes'] \n",
    "                    if attr['attribute']['attributeCode'] == key), None) == value for key, value in condition.items()):\n",
    "        \n",
    "        term_type_values = [attr for attr in context['attributes'] \n",
    "                            if attr['attribute']['attributeCode'] == 'TermType']\n",
    "        \n",
    "        if term_type_values:\n",
    "            count = len(term_type_values[0].get('values', []))\n",
    "            if count > 3:\n",
    "                return {\"success\": False, \"ErrorCode\": \"3'ten fazla terim değişikliği yapılamaz\", 'goto': 'END'}        \n",
    "            else:\n",
    "                return {\"success\": True, \"goto\": \"State 3\"}\n",
    "    else :\n",
    "        return {\"success\": False, \"ErrorCode\": \"Terim değişikliği yapmaya uygun değilsiniz\", \"goto\": \"END\"}\n"
   ]
  },
  {
   "cell_type": "markdown",
   "metadata": {},
   "source": [
    "##### Context Store Mapping"
   ]
  },
  {
   "cell_type": "code",
   "execution_count": 118,
   "metadata": {},
   "outputs": [],
   "source": [
    "# machine           : Currently executing machine instance\n",
    "# state             : Currently executing state instance\n",
    "# source            : Original trigger data\n",
    "# context           : Machine stored context\n",
    "# prevStateResponse : Previous executed state business logic response\n",
    "# return\n",
    "#     store dictionary  \n",
    "def context_store_mapping(machine, state, source, context, prevStateResponse):\n",
    "    store = {}\n",
    "    \n",
    "    attribute_codes = ['ServicePointId', 'BusinessPartnerId', 'AccountId']\n",
    "    \n",
    "    for code in attribute_codes:\n",
    "        for attr in context['attributes']:\n",
    "            if attr['attribute']['attributeCode'] == code:\n",
    "                value = attr['value']\n",
    "                if value is None and attr['values']:\n",
    "                    value = attr['values'][0]['value']  # values içindeki value al\n",
    "                store[code] = value\n",
    "                break\n",
    "        else:\n",
    "            store[code] = None  # Eğer bulunamazsa None döner\n",
    "    return store\n"
   ]
  },
  {
   "cell_type": "code",
   "execution_count": 125,
   "metadata": {},
   "outputs": [],
   "source": [
    "import json\n",
    "with open(r'C:\\Users\\KaanGermiyan\\StateMachine\\md-search-first-output.json') as file:\n",
    "    context = json.load(file)"
   ]
  },
  {
   "cell_type": "code",
   "execution_count": 126,
   "metadata": {},
   "outputs": [
    {
     "data": {
      "text/plain": [
       "{'success': False,\n",
       " 'ErrorCode': 'Terim değişikliği yapmaya uygun değilsiniz',\n",
       " 'goto': 'END'}"
      ]
     },
     "execution_count": 126,
     "metadata": {},
     "output_type": "execute_result"
    }
   ],
   "source": [
    "business_mapping('machine', 'state', 'request_data', context, 'prev_state_response', 'current_state_response')\n",
    "\n",
    "post_execution('machine', 'state', 'request_data', context, 'prev_state_response', 'current_state_response')\n",
    "\n"
   ]
  },
  {
   "cell_type": "code",
   "execution_count": 127,
   "metadata": {},
   "outputs": [
    {
     "data": {
      "text/plain": [
       "{'ServicePointId': 21407, 'BusinessPartnerId': None, 'AccountId': None}"
      ]
     },
     "execution_count": 127,
     "metadata": {},
     "output_type": "execute_result"
    }
   ],
   "source": [
    "context_store_mapping('machine', 'state', 'source', context, 'prevStateResponse')"
   ]
  },
  {
   "cell_type": "code",
   "execution_count": 1,
   "metadata": {},
   "outputs": [],
   "source": [
    "#P.S:\n",
    "# Here is a problem .. There is no AttributeCode as ! BusinessPartnerId and AccountId ! in the Json.. These two must be checked !"
   ]
  },
  {
   "cell_type": "code",
   "execution_count": null,
   "metadata": {},
   "outputs": [],
   "source": []
  }
 ],
 "metadata": {
  "kernelspec": {
   "display_name": "Python 3",
   "language": "python",
   "name": "python3"
  },
  "language_info": {
   "codemirror_mode": {
    "name": "ipython",
    "version": 3
   },
   "file_extension": ".py",
   "mimetype": "text/x-python",
   "name": "python",
   "nbconvert_exporter": "python",
   "pygments_lexer": "ipython3",
   "version": "3.12.3"
  }
 },
 "nbformat": 4,
 "nbformat_minor": 2
}
