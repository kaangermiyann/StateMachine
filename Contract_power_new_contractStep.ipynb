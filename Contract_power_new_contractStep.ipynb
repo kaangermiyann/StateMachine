{
 "cells": [
  {
   "cell_type": "code",
   "execution_count": 1,
   "metadata": {},
   "outputs": [],
   "source": [
    "#Sözleşme Gücü değişikliği Kontrol kısmı \n"
   ]
  },
  {
   "cell_type": "code",
   "execution_count": 9,
   "metadata": {},
   "outputs": [],
   "source": [
    "def state_handler(machine, state, request_data, context, prev_state_response, current_state_response):\n",
    "    \n",
    "    condition = {\n",
    "        'ContractCancellationDate': 99991231235959\n",
    "    }\n",
    "    \n",
    "    \n",
    "    if all(next((attr['value'] if attr['value'] is not None else (attr['values'][0]['value'] if attr['values'] else None) \n",
    "                    for attr in request_data['attributes'] \n",
    "                    if attr['attribute']['attributeCode'] == key), None) == value for key, value in condition.items()):\n",
    "                return {\"success\": True, \"goto\": \"10370003\"}\n",
    "    else :\n",
    "        return {\"success\": True, \"ErrorCode\": \"Terim değişikliği yapmaya uygun değilsiniz\", \"goto\": \"END\"}\n"
   ]
  },
  {
   "cell_type": "code",
   "execution_count": 3,
   "metadata": {},
   "outputs": [],
   "source": [
    "import json\n",
    "with open (r'C:\\Users\\KaanGermiyan\\StateMachine-2\\Double_Term_Single_Term\\inputs\\state1_input.json') as f:\n",
    "    context = json.load(f)"
   ]
  },
  {
   "cell_type": "code",
   "execution_count": 7,
   "metadata": {},
   "outputs": [],
   "source": [
    "s = state_handler('machine', 'state', 'request_data', context, 'prev_state_response', 'current_state_respons')"
   ]
  },
  {
   "cell_type": "code",
   "execution_count": 8,
   "metadata": {},
   "outputs": [
    {
     "data": {
      "text/plain": [
       "{'success': True, 'goto': 'X'}"
      ]
     },
     "execution_count": 8,
     "metadata": {},
     "output_type": "execute_result"
    }
   ],
   "source": [
    "s"
   ]
  },
  {
   "cell_type": "code",
   "execution_count": null,
   "metadata": {},
   "outputs": [],
   "source": []
  }
 ],
 "metadata": {
  "kernelspec": {
   "display_name": "Python 3",
   "language": "python",
   "name": "python3"
  },
  "language_info": {
   "codemirror_mode": {
    "name": "ipython",
    "version": 3
   },
   "file_extension": ".py",
   "mimetype": "text/x-python",
   "name": "python",
   "nbconvert_exporter": "python",
   "pygments_lexer": "ipython3",
   "version": "3.12.3"
  }
 },
 "nbformat": 4,
 "nbformat_minor": 2
}
